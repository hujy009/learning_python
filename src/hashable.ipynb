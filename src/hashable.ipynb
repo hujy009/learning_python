{
 "cells": [
  {
   "cell_type": "markdown",
   "metadata": {},
   "source": [
    "### 1. Python中的hashable和immutable"
   ]
  },
  {
   "cell_type": "markdown",
   "metadata": {},
   "source": [
    "#### 当我们改变一个对象的值的时候，如果能维持其id值不变，我们就说这个对象是可变，否则我们就说这个对象不可变。\n"
   ]
  },
  {
   "cell_type": "code",
   "execution_count": 3,
   "metadata": {},
   "outputs": [],
   "source": [
    "a = [1, 2]\n",
    "b = (1, 2)"
   ]
  },
  {
   "cell_type": "code",
   "execution_count": 4,
   "metadata": {},
   "outputs": [
    {
     "name": "stdout",
     "output_type": "stream",
     "text": [
      "2462901165120\n",
      "2462901165120\n"
     ]
    }
   ],
   "source": [
    "print(id(a))\n",
    "a.append(3)\n",
    "print(id(a))     # Mr. Hu: id retain unchanged"
   ]
  },
  {
   "cell_type": "code",
   "execution_count": 5,
   "metadata": {},
   "outputs": [
    {
     "name": "stdout",
     "output_type": "stream",
     "text": [
      "2462900601856\n",
      "2462914035456\n"
     ]
    }
   ],
   "source": [
    "print(id(b))\n",
    "b = (1, 2, 3)\n",
    "print(id(b))      # Mr. Hu: id changed"
   ]
  },
  {
   "cell_type": "markdown",
   "metadata": {},
   "source": [
    "### 2. 对象的ID与可哈希对象"
   ]
  },
  {
   "cell_type": "code",
   "execution_count": 10,
   "metadata": {},
   "outputs": [
    {
     "name": "stdout",
     "output_type": "stream",
     "text": [
      "id(a): 2462901140496\n",
      "id(b): 2462901140752\n",
      "id(b): 2462901140752\n"
     ]
    }
   ],
   "source": [
    "a = 1.0; print(f\"id(a): {id(a)}\")\n",
    "b = 1.0; print(f\"id(b): {id(b)}\")\n",
    "c = 1; print(f\"id(b): {id(b)}\")"
   ]
  },
  {
   "cell_type": "code",
   "execution_count": 12,
   "metadata": {},
   "outputs": [
    {
     "name": "stdout",
     "output_type": "stream",
     "text": [
      "lst: [1, 1, 1]\n",
      "set(lst): {1}\n"
     ]
    }
   ],
   "source": [
    "lst = [hash(a), hash(b), hash(c)]\n",
    "print(f\"lst: {lst}\")\n",
    "print(f\"set(lst): {set(lst)}\")            # Mr. Hu: hash is calculated according to the input values"
   ]
  },
  {
   "cell_type": "markdown",
   "metadata": {},
   "source": [
    "#### 2.1 用户自定义的类的实例其哈希值是用对象的id值计算出来的"
   ]
  },
  {
   "cell_type": "code",
   "execution_count": 14,
   "metadata": {},
   "outputs": [
    {
     "name": "stdout",
     "output_type": "stream",
     "text": [
      "<__main__.A object at 0x0000023D7058B160>\n",
      "<__main__.A object at 0x0000023D70592AF0>\n"
     ]
    }
   ],
   "source": [
    "class A:\n",
    "    pass\n",
    "\n",
    "cls_a = A(); print(cls_a)\n",
    "cls_b = A(); print(cls_b)       # Mr. Hu: The IDs of the two objects are different"
   ]
  },
  {
   "cell_type": "code",
   "execution_count": 15,
   "metadata": {},
   "outputs": [
    {
     "name": "stdout",
     "output_type": "stream",
     "text": [
      "hash(cls_a): 153931320086\n",
      "hash(cls_b): 153931322031\n"
     ]
    }
   ],
   "source": [
    "print(f\"hash(cls_a): {hash(cls_a)}\")\n",
    "print(f\"hash(cls_b): {hash(cls_b)}\")      # Mr. Hu: The hash values are different due to the difference of the IDs"
   ]
  },
  {
   "cell_type": "markdown",
   "metadata": {},
   "source": [
    "##### 对象值不同的情况下哈希值可以相同"
   ]
  },
  {
   "cell_type": "code",
   "execution_count": 16,
   "metadata": {},
   "outputs": [
    {
     "data": {
      "text/plain": [
       "153931320086"
      ]
     },
     "execution_count": 16,
     "metadata": {},
     "output_type": "execute_result"
    }
   ],
   "source": [
    "cls_a.sdf = 'sdf'\n",
    "hash(cls_a)"
   ]
  },
  {
   "cell_type": "markdown",
   "metadata": {},
   "source": []
  }
 ],
 "metadata": {
  "interpreter": {
   "hash": "b03d1cb070bf88d28b724d3978dd5f9d7cb0ae47083e646757f7ecdf2b6602e2"
  },
  "kernelspec": {
   "display_name": "Python 3.9.4 64-bit ('py39PT1_9': venv)",
   "language": "python",
   "name": "python3"
  },
  "language_info": {
   "codemirror_mode": {
    "name": "ipython",
    "version": 3
   },
   "file_extension": ".py",
   "mimetype": "text/x-python",
   "name": "python",
   "nbconvert_exporter": "python",
   "pygments_lexer": "ipython3",
   "version": "3.9.4"
  },
  "orig_nbformat": 4
 },
 "nbformat": 4,
 "nbformat_minor": 2
}
