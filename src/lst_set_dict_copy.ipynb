{
 "cells": [
  {
   "cell_type": "code",
   "execution_count": 43,
   "metadata": {},
   "outputs": [
    {
     "name": "stdout",
     "output_type": "stream",
     "text": [
      "Help on method_descriptor:\n",
      "\n",
      "copy(self, /)\n",
      "    Return a shallow copy of the list.\n",
      "\n",
      "Help on method_descriptor:\n",
      "\n",
      "copy(...)\n",
      "    D.copy() -> a shallow copy of D\n",
      "\n",
      "Help on method_descriptor:\n",
      "\n",
      "copy(...)\n",
      "    Return a shallow copy of a set.\n",
      "\n",
      "Help on method_descriptor:\n",
      "\n",
      "copy(...)\n",
      "    Return a shallow copy of a set.\n",
      "\n"
     ]
    }
   ],
   "source": [
    "help(list.copy)\n",
    "help(dict.copy)\n",
    "help(set.copy)\n",
    "help(frozenset.copy)      # all shallow copy"
   ]
  },
  {
   "cell_type": "code",
   "execution_count": 44,
   "metadata": {},
   "outputs": [
    {
     "name": "stdout",
     "output_type": "stream",
     "text": [
      "id(b1): 1923113059200, b1: ['name', 123, ['python', 'C++']]\n",
      "id(b2): 1923125790144, b2: ['name', 123, ['python', 'C++']]\n",
      "False\n",
      "True\n",
      "id(b1[0]: 1923037233456, id(b2[0]): 1923037233456\n"
     ]
    }
   ],
   "source": [
    "b1 = ['name', 123, ['python', 'C++']]\n",
    "b2 = b1.copy()\n",
    "print(f\"id(b1): {id(b1)}, b1: {b1}\")\n",
    "print(f\"id(b2): {id(b2)}, b2: {b2}\")\n",
    "print(b1 is b2)         # Mr. Hu:  id(b1) != id(b2)\n",
    "print(b1[0] is b2[0])   # Mr. Hu:  but the content of element 0 is the same\n",
    "print(f\"id(b1[0]: {id(b1[0])}, id(b2[0]): {id(b2[0])}\")"
   ]
  },
  {
   "cell_type": "code",
   "execution_count": 45,
   "metadata": {},
   "outputs": [
    {
     "name": "stdout",
     "output_type": "stream",
     "text": [
      "id(b1): 1923113059200, b1: [100, 123, ['python', 'C++']]\n",
      "id(b2): 1923125790144, b2: ['name', 123, ['python', 'C++']]\n",
      "False\n",
      "id(b1[0]: 1923037222352, id(b2[0]): 1923037233456\n"
     ]
    }
   ],
   "source": [
    "b1[0] = 100\n",
    "print(f\"id(b1): {id(b1)}, b1: {b1}\")\n",
    "print(f\"id(b2): {id(b2)}, b2: {b2}\")\n",
    "print(b1[0] is b2[0])   # Mr. Hu:  but the content of element 0 is the same\n",
    "print(f\"id(b1[0]: {id(b1[0])}, id(b2[0]): {id(b2[0])}\")"
   ]
  },
  {
   "cell_type": "markdown",
   "metadata": {},
   "source": [
    "#### 重点来了， b1, b2的['python', 'C++']是共享的， that shallow copy only copies the first layer."
   ]
  },
  {
   "cell_type": "code",
   "execution_count": 46,
   "metadata": {},
   "outputs": [
    {
     "name": "stdout",
     "output_type": "stream",
     "text": [
      "id(b1): 1923113059200, b1: [100, 123, ['python', 999]]\n",
      "id(b2): 1923125790144, b2: ['name', 123, ['python', 999]]\n"
     ]
    }
   ],
   "source": [
    "b1[2][1] = 999\n",
    "print(f\"id(b1): {id(b1)}, b1: {b1}\")\n",
    "print(f\"id(b2): {id(b2)}, b2: {b2}\")"
   ]
  },
  {
   "cell_type": "code",
   "execution_count": 42,
   "metadata": {},
   "outputs": [
    {
     "name": "stdout",
     "output_type": "stream",
     "text": [
      "id(b1): 1923125890880, b1: [100, 123, ['python', 999]]\n",
      "id(b3): 1923125890752, b2: [100, 123, ['python', 999]]\n",
      "id(b1): 1923125890880, b1: [100, 123, ['python', 999]]\n",
      "id(b3): 1923125890752, b2: [-100, 123, ['python', 'C++']]\n"
     ]
    }
   ],
   "source": [
    "import copy\n",
    "b3 = copy.deepcopy(b1)\n",
    "print(f\"id(b1): {id(b1)}, b1: {b1}\")\n",
    "print(f\"id(b3): {id(b3)}, b2: {b3}\")\n",
    "b3[0] = -100\n",
    "b3[2][1] = 'C++'\n",
    "print(f\"id(b1): {id(b1)}, b1: {b1}\")\n",
    "print(f\"id(b3): {id(b3)}, b2: {b3}\")"
   ]
  }
 ],
 "metadata": {
  "interpreter": {
   "hash": "b03d1cb070bf88d28b724d3978dd5f9d7cb0ae47083e646757f7ecdf2b6602e2"
  },
  "kernelspec": {
   "display_name": "Python 3.9.4 64-bit ('py39PT1_9': venv)",
   "language": "python",
   "name": "python3"
  },
  "language_info": {
   "codemirror_mode": {
    "name": "ipython",
    "version": 3
   },
   "file_extension": ".py",
   "mimetype": "text/x-python",
   "name": "python",
   "nbconvert_exporter": "python",
   "pygments_lexer": "ipython3",
   "version": "3.9.4"
  },
  "orig_nbformat": 4
 },
 "nbformat": 4,
 "nbformat_minor": 2
}
